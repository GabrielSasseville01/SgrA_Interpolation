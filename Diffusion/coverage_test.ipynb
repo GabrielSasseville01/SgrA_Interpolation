{
 "cells": [
  {
   "cell_type": "code",
   "execution_count": null,
   "metadata": {},
   "outputs": [],
   "source": [
    "!python exe_real.py --modelfolder sgra_fold0_final_20250404_110307 --real_data_path ../Analysis/coverage_test_data.npz"
   ]
  }
 ],
 "metadata": {
  "kernelspec": {
   "display_name": "Diffusion-Nf9kVZlp",
   "language": "python",
   "name": "python3"
  },
  "language_info": {
   "name": "python",
   "version": "3.11.5"
  }
 },
 "nbformat": 4,
 "nbformat_minor": 2
}
