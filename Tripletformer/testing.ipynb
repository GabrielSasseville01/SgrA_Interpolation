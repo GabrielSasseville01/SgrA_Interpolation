{
 "cells": [
  {
   "cell_type": "code",
   "execution_count": 56,
   "metadata": {},
   "outputs": [
    {
     "name": "stdout",
     "output_type": "stream",
     "text": [
      "checkpoint_trainer.py --niters 1 --batch-size 20 --dataset sgrA --norm --shuffle --sample-tp 0.1 --mse-weight 1.0 --imab-dim 64 --cab-dim 256 --decoder-dim 128 --nlayers 1 --sample-type random --num-ref-points 128\n",
      "(6300, 960, 9) (1260, 960, 9) (840, 960, 9)\n",
      "/home/gsasseville/.local/share/virtualenvs/Tripletformer-nUF7tw2u/lib/python3.8/site-packages/torch/optim/lr_scheduler.py:60: UserWarning: The verbose parameter is deprecated. Please use get_last_lr() to access the learning rate.\n",
      "  warnings.warn(\n",
      "No checkpoint file found. Training from Epoch 1\n",
      "Experiment ID 6162161\n",
      "Epoch 1 completed\n",
      "Training loss: 1.3411\n",
      "Validation loss: 1.2806\n",
      "checkpoint_trainer.py:145: FutureWarning: You are using `torch.load` with `weights_only=False` (the current default value), which uses the default pickle module implicitly. It is possible to construct malicious pickle data which will execute arbitrary code during unpickling (See https://github.com/pytorch/pytorch/blob/main/SECURITY.md#untrusted-models for more details). In a future release, the default value for `weights_only` will be flipped to `True`. This limits the functions that could be executed during unpickling. Arbitrary objects will no longer be allowed to be loaded via this mode unless they are explicitly allowlisted by the user via `torch.serialization.add_safe_globals`. We recommend you start setting `weights_only=True` for any use case where you don't have full control of the loaded file. Please open an issue on GitHub for any issues related to this experimental feature.\n",
      "  chp = torch.load(checkpoint_path)\n",
      "best_val_loss: 1.280596375465393, test_loss: 1.2630547285079956\n",
      "torch.Size([2, 2012])\n",
      "torch.Size([2, 2012])\n",
      "torch.Size([2, 2012])\n",
      "torch.Size([2, 2012])\n"
     ]
    }
   ],
   "source": [
    "!python checkpoint_trainer.py --niters 1 --batch-size 20 --dataset sgrA --norm --shuffle --sample-tp 0.1 --mse-weight 1.0 --imab-dim 64 --cab-dim 256 --decoder-dim 128 --nlayers 1 --sample-type random --num-ref-points 128"
   ]
  },
  {
   "cell_type": "code",
   "execution_count": 102,
   "metadata": {},
   "outputs": [
    {
     "name": "stdout",
     "output_type": "stream",
     "text": [
      "test_prediction.py --niters 1 --batch-size 20 --dataset sgrA --norm --shuffle --sample-tp 0.1 --mse-weight 1.0 --imab-dim 64 --cab-dim 256 --decoder-dim 128 --nlayers 1 --sample-type random --num-ref-points 128\n",
      "(6300, 960, 9) (1260, 960, 9) (840, 960, 9)\n",
      "test_prediction.py:59: FutureWarning: You are using `torch.load` with `weights_only=False` (the current default value), which uses the default pickle module implicitly. It is possible to construct malicious pickle data which will execute arbitrary code during unpickling (See https://github.com/pytorch/pytorch/blob/main/SECURITY.md#untrusted-models for more details). In a future release, the default value for `weights_only` will be flipped to `True`. This limits the functions that could be executed during unpickling. Arbitrary objects will no longer be allowed to be loaded via this mode unless they are explicitly allowlisted by the user via `torch.serialization.add_safe_globals`. We recommend you start setting `weights_only=True` for any use case where you don't have full control of the loaded file. Please open an issue on GitHub for any issues related to this experimental feature.\n",
      "  chp = torch.load('saved_models/sgrA_982081.h5')\n"
     ]
    }
   ],
   "source": [
    "!python test_prediction.py --niters 1 --batch-size 20 --dataset sgrA --norm --shuffle --sample-tp 0.1 --mse-weight 1.0 --imab-dim 64 --cab-dim 256 --decoder-dim 128 --nlayers 1 --sample-type random --num-ref-points 128"
   ]
  },
  {
   "cell_type": "code",
   "execution_count": 78,
   "metadata": {},
   "outputs": [
    {
     "name": "stdout",
     "output_type": "stream",
     "text": [
      "Original C is:\n",
      " tensor([[[0, 1, 2, 3],\n",
      "         [0, 1, 2, 3]]])\n",
      "mk_bool is:\n",
      " tensor([[[ True, False, False,  True],\n",
      "         [False,  True,  True, False]]])\n",
      "C after Padding is:\n",
      " tensor([[0, 3, 1, 2, 0, 0, 0, 0]])\n",
      "C after one-hot is:\n",
      " tensor([[[1, 0, 0, 0],\n",
      "         [0, 0, 0, 1],\n",
      "         [0, 1, 0, 0],\n",
      "         [0, 0, 1, 0],\n",
      "         [1, 0, 0, 0],\n",
      "         [1, 0, 0, 0],\n",
      "         [1, 0, 0, 0],\n",
      "         [1, 0, 0, 0]]])\n"
     ]
    },
    {
     "ename": "NameError",
     "evalue": "name 'tau' is not defined",
     "output_type": "error",
     "traceback": [
      "\u001b[0;31m---------------------------------------------------------------------------\u001b[0m",
      "\u001b[0;31mNameError\u001b[0m                                 Traceback (most recent call last)",
      "Cell \u001b[0;32mIn[78], line 33\u001b[0m\n\u001b[1;32m     29\u001b[0m C \u001b[38;5;241m=\u001b[39m torch\u001b[38;5;241m.\u001b[39mnn\u001b[38;5;241m.\u001b[39mfunctional\u001b[38;5;241m.\u001b[39mone_hot(C, num_classes \u001b[38;5;241m=\u001b[39m\u001b[38;5;241m4\u001b[39m)\n\u001b[1;32m     31\u001b[0m \u001b[38;5;28mprint\u001b[39m(\u001b[38;5;124m'\u001b[39m\u001b[38;5;124mC after one-hot is:\u001b[39m\u001b[38;5;130;01m\\n\u001b[39;00m\u001b[38;5;124m'\u001b[39m, C)\n\u001b[0;32m---> 33\u001b[0m target_context \u001b[38;5;241m=\u001b[39m torch\u001b[38;5;241m.\u001b[39mcat([\u001b[43mtau\u001b[49m[:,:,\u001b[38;5;28;01mNone\u001b[39;00m], C], \u001b[38;5;241m-\u001b[39m\u001b[38;5;241m1\u001b[39m)\u001b[38;5;241m.\u001b[39mcontiguous()\n\u001b[1;32m     34\u001b[0m target_mask \u001b[38;5;241m=\u001b[39m torch\u001b[38;5;241m.\u001b[39mstack([C_, mk], \u001b[38;5;241m-\u001b[39m\u001b[38;5;241m1\u001b[39m)\n\u001b[1;32m     35\u001b[0m obs_len \u001b[38;5;241m=\u001b[39m torch\u001b[38;5;241m.\u001b[39mmax(target_mask[:,:,\u001b[38;5;241m1\u001b[39m]\u001b[38;5;241m.\u001b[39msum(\u001b[38;5;241m-\u001b[39m\u001b[38;5;241m1\u001b[39m))\u001b[38;5;241m.\u001b[39mto(torch\u001b[38;5;241m.\u001b[39mint64) \u001b[38;5;66;03m# number of points to predict\u001b[39;00m\n",
      "\u001b[0;31mNameError\u001b[0m: name 'tau' is not defined"
     ]
    }
   ],
   "source": [
    "import numpy as np\n",
    "import torch\n",
    "import torch.nn as nn\n",
    "import torch.nn.functional as F\n",
    "import utils\n",
    "import layers\n",
    "import pdb\n",
    "r = np.array([[1,2,3], [4,5,6]])\n",
    "m = np.array([[True, False, True], [False, False, True]])\n",
    "r[m]\n",
    "\n",
    "full_len = 2*4 # Timesteps * dim. 960*4\n",
    "pad = lambda v: F.pad(v, [0, full_len - len(v)], value=0)\n",
    "C = torch.ones((1, 2, 4), dtype=torch.int64).cumsum(-1) - 1\n",
    "mk = torch.ones(C.size())\n",
    "mk[0][0][1] = 0\n",
    "mk[0][0][2] = 0\n",
    "mk[0][1][0] = 0\n",
    "mk[0][1][3] = 0\n",
    "mk_bool = mk.to(bool)\n",
    "print('Original C is:\\n', C)\n",
    "print('mk_bool is:\\n', mk_bool)\n",
    "C = torch.stack([pad(r[m]) for r, m in zip(C, mk_bool)]).contiguous()\n",
    "mk = torch.stack([pad(r[m]) for r, m in zip(mk, mk_bool)]).contiguous()\n",
    "C_ = C\n",
    "\n",
    "print('C after Padding is:\\n', C)\n",
    "\n",
    "C = torch.nn.functional.one_hot(C, num_classes =4)\n",
    "\n",
    "print('C after one-hot is:\\n', C)\n",
    "\n",
    "target_context = torch.cat([tau[:,:,None], C], -1).contiguous()\n",
    "target_mask = torch.stack([C_, mk], -1)\n",
    "obs_len = torch.max(target_mask[:,:,1].sum(-1)).to(torch.int64) # number of points to predict\n",
    "\n",
    "print(target_mask)\n",
    "\n",
    "print(target_mask[:, :obs_len])"
   ]
  }
 ],
 "metadata": {
  "kernelspec": {
   "display_name": "Tripletformer-nUF7tw2u",
   "language": "python",
   "name": "python3"
  },
  "language_info": {
   "codemirror_mode": {
    "name": "ipython",
    "version": 3
   },
   "file_extension": ".py",
   "mimetype": "text/x-python",
   "name": "python",
   "nbconvert_exporter": "python",
   "pygments_lexer": "ipython3",
   "version": "3.8.11"
  }
 },
 "nbformat": 4,
 "nbformat_minor": 2
}
